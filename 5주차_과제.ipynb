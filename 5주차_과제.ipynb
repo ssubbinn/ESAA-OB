{
  "nbformat": 4,
  "nbformat_minor": 0,
  "metadata": {
    "colab": {
      "provenance": [],
      "authorship_tag": "ABX9TyM3tl7nFyXA3Ilu/nRxdPEV",
      "include_colab_link": true
    },
    "kernelspec": {
      "name": "python3",
      "display_name": "Python 3"
    },
    "language_info": {
      "name": "python"
    }
  },
  "cells": [
    {
      "cell_type": "markdown",
      "metadata": {
        "id": "view-in-github",
        "colab_type": "text"
      },
      "source": [
        "<a href=\"https://colab.research.google.com/github/ssubbinn/ESAA-OB/blob/main/5%EC%A3%BC%EC%B0%A8_%EA%B3%BC%EC%A0%9C.ipynb\" target=\"_parent\"><img src=\"https://colab.research.google.com/assets/colab-badge.svg\" alt=\"Open In Colab\"/></a>"
      ]
    },
    {
      "cell_type": "markdown",
      "source": [
        "## 8장 텍스트 분석\n",
        "\n",
        "텍스트 분석과 NLP는 거의 비슷\n",
        "\n",
        "NLP : 머신이 인간의 언어를 이해하고 해석하는 데 더 중점\n",
        "\n",
        "텍스트 마이닝(분석) : 비정형 텍스트에서 의미 있는 정보를 추출하는 것에 좀더 중점 \n",
        "\n",
        "-> 머신러닝, 언어 이해, 통계 등을 활용해 모델을 수립하고 정보를 추출해 비즈니스 인텔리전스나 예측 분석등의 분석 작업 주로 수행\n",
        "\n",
        "<종류>\n",
        "- 텍스트 분류(text classification) : 문서가 특정 분류 또는 카테고리에 속하는 것을 예측하는 기법 통칭. ex) 신문 기사 내용이 연애/정치/사회/문화 중 어떤 카테고리에 속하는지 -> 지도학습 적용\n",
        "- 감성분석(Sentiment Analysis) : 텍스트에서 나타나는 감정/판단/믿음/의견/기분 등의 주관적인 요소를 분석하는 기법\n",
        "- 텍스트 요약(Summarization) : 텍스트 내에서 중요한 주제나 중심 사상을 추출하는 기법. 대표적으로 토픽 모델링\n",
        "- 텍스트 군집화(clustering)와 유사도 측정: 비슷한 유형의 문서에 대해 군집화를 수행하는 기법. 텍스트 분류를 비지도 학습으로 수행하는 방법의 일환"
      ],
      "metadata": {
        "id": "yGB8vH2BfZSS"
      }
    },
    {
      "cell_type": "markdown",
      "source": [
        "### 텍스트 분석 이해\n",
        "\n",
        "피처 벡터화(피처 추출) : 텍스트를 word 기반의 다수의 피처로 추출하고 이 피처에 단어 빈도수와 같은 숫자 값을 부여하면 텍스트는 단어의 조합인 벡터 값으로 표현될 수 있음\n",
        "\n",
        "<방법>\n",
        "- BOW\n",
        "- Word2Vec\n",
        "\n",
        "**텍스트 분석 수행 프로세스**\n",
        "\n",
        "1. 텍스트 사전 준비작업: 텍스트를 피처로 만들기 전에 미리 클렌징. 대/소문자 변경. 특수문자 삭제 등. 단어 토큰화 작업. 의미 없는 단어(stop word) 제거. 어근 추출(Stemming/lemmatization)\n",
        "2. 피처 벡터화/추출: 가공된 텍스트에서 피처를 추출하고 여기에 벡터 값을 할당. bow, word2vec\n",
        "3. ml 모델 수립 및 학습/예측/평가 : 피처 벡터화된 데이터 세트에 ml 모델을 적용해 학습/예측 및 평가 수행\n",
        "\n",
        "**파이썬 기반의 NLP, 텍스트 분석 패키지**\n",
        "\n",
        "- NLTK\n",
        "- Gensim\n",
        "- SpaCy"
      ],
      "metadata": {
        "id": "YmSgMl91iEca"
      }
    },
    {
      "cell_type": "markdown",
      "source": [
        "### 텍스트 사전 준비 작엽(텍스트 전처리) - 텍스트 정규화\n",
        "\n",
        "-텍스트 정규화는 텍스트를 머신러닝 알고리즘이나 NLP 애플리케이션에 입력 데이터로 사용하기 위해 클렌징, 정제, 토큰화, 어근화 등의 다양한 텍스트 데이터의 사전 작업을 수행하는 것을 의미\n",
        "\n",
        "- 클렌징\n",
        "- 토큰화\n",
        "- 필터링/스톱 워드 제거/철자 수정\n",
        "- Stemming\n",
        "- Lemmatization\n",
        "\n",
        "\n",
        "\n"
      ],
      "metadata": {
        "id": "vfL3d7KhqVlD"
      }
    },
    {
      "cell_type": "markdown",
      "source": [
        "**클렌징**\n",
        " : 텍스트에서 분석에 오히려 방해가 되는 불필요한 문자, 기호 등을 사전에 제거하는 작업\n",
        "\n",
        "**텍스트 토큰화**: 토큰화의 유형은 문서에서 문장을 분리하는 문장 토큰화와 문장에서 단어를 토큰으로 분리하는 단어 토큰화로 나눌 수 있음\n",
        "\n",
        "- 문장 토큰화 : 문장의 마침표, 개행문자 등 문장의 마지막을 뜻하는 기호에 따라 분리하는 것이 일반적\n"
      ],
      "metadata": {
        "id": "wE36M7yXqyvI"
      }
    },
    {
      "cell_type": "code",
      "source": [
        "from nltk import sent_tokenize\n",
        "import nltk\n",
        "nltk.download('punkt')\n",
        "\n",
        "text_sample='The Matrix is everywhere its all around us, here even in ths room. You can see it out your window or on your television. You feel it when you go to work, or go to church or pay your taxes.'\n",
        "sentences=sent_tokenize(text=text_sample)\n",
        "print(type(sentences), len(sentences)) #list\n",
        "print(sentences)"
      ],
      "metadata": {
        "colab": {
          "base_uri": "https://localhost:8080/"
        },
        "id": "1MZ9l7QGfd9-",
        "outputId": "88cf1325-2721-4fc3-ae38-49f6b57db598"
      },
      "execution_count": 1,
      "outputs": [
        {
          "output_type": "stream",
          "name": "stderr",
          "text": [
            "[nltk_data] Downloading package punkt to /root/nltk_data...\n",
            "[nltk_data]   Unzipping tokenizers/punkt.zip.\n"
          ]
        },
        {
          "output_type": "stream",
          "name": "stdout",
          "text": [
            "<class 'list'> 3\n",
            "['The Matrix is everywhere its all around us, here even in ths room.', 'You can see it out your window or on your television.', 'You feel it when you go to work, or go to church or pay your taxes.']\n"
          ]
        }
      ]
    },
    {
      "cell_type": "markdown",
      "source": [
        "**단어 토큰화**: \n",
        "- 문장을 단어로 토큰화. \n",
        "- 기본적으로 공백, 콤마, 마침표, 개행문자 등으로 단어를 분리하지만, 정규 표현식을 이용해 다양한 유형으로 토큰화를 수행\n",
        "- Bag of word 와 같이 단어의 순서가 중요하지 않은 경우 문장 토큰화를 사용하지 않고 단어 토큰화만 사용"
      ],
      "metadata": {
        "id": "5W1faQNltjZE"
      }
    },
    {
      "cell_type": "code",
      "source": [
        "from nltk import word_tokenize\n",
        "\n",
        "sentence = \"The Matrix is everywhere its all around us, here even in this room.\"\n",
        "words = word_tokenize(sentence)\n",
        "print(type(words), len(words))\n",
        "print(words)"
      ],
      "metadata": {
        "colab": {
          "base_uri": "https://localhost:8080/"
        },
        "id": "aNWMYpgltDkX",
        "outputId": "c398dff9-1e4a-4f25-d043-1a71cd0cd6c7"
      },
      "execution_count": 2,
      "outputs": [
        {
          "output_type": "stream",
          "name": "stdout",
          "text": [
            "<class 'list'> 15\n",
            "['The', 'Matrix', 'is', 'everywhere', 'its', 'all', 'around', 'us', ',', 'here', 'even', 'in', 'this', 'room', '.']\n"
          ]
        }
      ]
    },
    {
      "cell_type": "code",
      "source": [
        "from nltk import word_tokenize, sent_tokenize\n",
        "\n",
        "#여러 개의 문장으로 된 입력 데이터를 문장별로 단어 토큰화하게 만드는 함수 생성\n",
        "\n",
        "def tokenize_text(text):\n",
        "\n",
        "  #문장별로 분리 토큰\n",
        "  sentences = sent_tokenize(text)\n",
        "  #분리된 문장별 단어 토큰화\n",
        "  word_tokens=[word_tokenize(sentence) for sentence in sentences]\n",
        "  return word_tokens\n",
        "\n",
        "#여러 문장에 대해 문장별 단어 토큰화 수행\n",
        "word_tokens = tokenize_text(text_sample)\n",
        "print(type(word_tokens), len(word_tokens))\n",
        "print(word_tokens)"
      ],
      "metadata": {
        "colab": {
          "base_uri": "https://localhost:8080/"
        },
        "id": "yy6mhSfHznwN",
        "outputId": "d09ef282-89cf-44c3-8201-b3f5f71f6f7a"
      },
      "execution_count": 3,
      "outputs": [
        {
          "output_type": "stream",
          "name": "stdout",
          "text": [
            "<class 'list'> 3\n",
            "[['The', 'Matrix', 'is', 'everywhere', 'its', 'all', 'around', 'us', ',', 'here', 'even', 'in', 'ths', 'room', '.'], ['You', 'can', 'see', 'it', 'out', 'your', 'window', 'or', 'on', 'your', 'television', '.'], ['You', 'feel', 'it', 'when', 'you', 'go', 'to', 'work', ',', 'or', 'go', 'to', 'church', 'or', 'pay', 'your', 'taxes', '.']]\n"
          ]
        }
      ]
    },
    {
      "cell_type": "markdown",
      "source": [
        "- 문장을 단어별로 하나씩 토큰화 하면 문맥적인 의미는 무시될 수 있음\n",
        "- 이를 해결하기 위해 n-gram 도입\n",
        "- n-gram은 연속된 n개의 단어를 하나의 토큰화 단위로 분리해 내는 것\n",
        "\n",
        "**스톱 워드 제거**\n",
        "\n",
        "스톱 워드 : 분석에 큰 의미가 없는 단어 지칭 ex) is, the, a, will\n",
        "\n"
      ],
      "metadata": {
        "id": "utFiaw4W4hE_"
      }
    },
    {
      "cell_type": "code",
      "source": [
        "#nltk stopword 내려받기\n",
        "import nltk\n",
        "nltk.download('stopwords')"
      ],
      "metadata": {
        "colab": {
          "base_uri": "https://localhost:8080/"
        },
        "id": "wjoqWy1648_4",
        "outputId": "a4050afb-ec75-4092-b667-2d6b4a8064e1"
      },
      "execution_count": 4,
      "outputs": [
        {
          "output_type": "stream",
          "name": "stderr",
          "text": [
            "[nltk_data] Downloading package stopwords to /root/nltk_data...\n",
            "[nltk_data]   Unzipping corpora/stopwords.zip.\n"
          ]
        },
        {
          "output_type": "execute_result",
          "data": {
            "text/plain": [
              "True"
            ]
          },
          "metadata": {},
          "execution_count": 4
        }
      ]
    },
    {
      "cell_type": "code",
      "source": [
        "print('영어 stop words 개수:', len(nltk.corpus.stopwords.words('english')))\n",
        "print(nltk.corpus.stopwords.words('english')[:20])"
      ],
      "metadata": {
        "colab": {
          "base_uri": "https://localhost:8080/"
        },
        "id": "yeIglW4p5AcI",
        "outputId": "5563baf6-52e7-43f0-a995-0a71bd0e1ba0"
      },
      "execution_count": 5,
      "outputs": [
        {
          "output_type": "stream",
          "name": "stdout",
          "text": [
            "영어 stop words 개수: 179\n",
            "['i', 'me', 'my', 'myself', 'we', 'our', 'ours', 'ourselves', 'you', \"you're\", \"you've\", \"you'll\", \"you'd\", 'your', 'yours', 'yourself', 'yourselves', 'he', 'him', 'his']\n"
          ]
        }
      ]
    },
    {
      "cell_type": "code",
      "source": [
        "import nltk\n",
        "\n",
        "stopwords = nltk.corpus.stopwords.words('english')\n",
        "all_tokens=[]\n",
        "\n",
        "#위 예제에서 3개의 문장별로 얻은 word_tokens list에 대해 스톱워드를 제거하는 반복문\n",
        "for sentence in word_tokens:\n",
        "  filtered_words=[]\n",
        "  #개별 문장별로 토큰화된 문장 list에 대해 스톱 워드를 제거하는 반복문\n",
        "  for word in sentence:\n",
        "    #소문자로 모두 변환\n",
        "    word=word.lower()\n",
        "    #토큰화된 개별 단어가 스톱 워드의 단어에 포함되지 않으면 word_tokens에 추가\n",
        "    if word not in stopwords:\n",
        "      filtered_words.append(word)\n",
        "  all_tokens.append(filtered_words)\n",
        "\n",
        "print(all_tokens)"
      ],
      "metadata": {
        "colab": {
          "base_uri": "https://localhost:8080/"
        },
        "id": "dQmbdLvK5QyC",
        "outputId": "43684e24-3e03-4c6b-d252-603b092ae83c"
      },
      "execution_count": 6,
      "outputs": [
        {
          "output_type": "stream",
          "name": "stdout",
          "text": [
            "[['matrix', 'everywhere', 'around', 'us', ',', 'even', 'ths', 'room', '.'], ['see', 'window', 'television', '.'], ['feel', 'go', 'work', ',', 'go', 'church', 'pay', 'taxes', '.']]\n"
          ]
        }
      ]
    },
    {
      "cell_type": "markdown",
      "source": [
        "- is, this 와 같은 스톱워드 사라짐\n",
        "\n",
        "**Stemming과 Lemmatization**\n",
        "\n",
        ": 문법적 또는 의미적으로 변화하는 단어의 원형을 찾는 것\n",
        "\n",
        "- Lemmatization이 stemming보다 정교하며 의미론적인 기반에서 단어의 원형을 찾음\n"
      ],
      "metadata": {
        "id": "yZRudUqX5-ZB"
      }
    },
    {
      "cell_type": "code",
      "source": [
        "#Stemming\n",
        "from nltk.stem import LancasterStemmer\n",
        "stemmer=LancasterStemmer()\n",
        "\n",
        "print(stemmer.stem('working'), stemmer.stem('works'), stemmer.stem('worked'))\n",
        "print(stemmer.stem('amusing'), stemmer.stem('amuses'), stemmer.stem('amused'))\n",
        "print(stemmer.stem('happier'), stemmer.stem('happiest'))\n",
        "print(stemmer.stem('fancier'), stemmer.stem('fanciest'))"
      ],
      "metadata": {
        "colab": {
          "base_uri": "https://localhost:8080/"
        },
        "id": "kOfqGN9S583B",
        "outputId": "dc2acdb8-6444-484b-8899-c3b85d3a819b"
      },
      "execution_count": 7,
      "outputs": [
        {
          "output_type": "stream",
          "name": "stdout",
          "text": [
            "work work work\n",
            "amus amus amus\n",
            "happy happiest\n",
            "fant fanciest\n"
          ]
        }
      ]
    },
    {
      "cell_type": "markdown",
      "source": [
        "- amuse, fancy의 경우 잘 안됨"
      ],
      "metadata": {
        "id": "tMwnVL0K9OHh"
      }
    },
    {
      "cell_type": "code",
      "source": [
        "#Lemmatization\n",
        "from nltk.stem import WordNetLemmatizer\n",
        "import nltk\n",
        "nltk.download('wordnet')\n",
        "\n",
        "lemma = WordNetLemmatizer()\n",
        "print(lemma.lemmatize('amusing', 'v'), lemma.lemmatize('amuses', 'v'), lemma.lemmatize('amused','v')) #동사 ->v\n",
        "print(lemma.lemmatize('happier', 'a'), lemma.lemmatize('happiest', 'a')) #형용사 -> a\n",
        "print(lemma.lemmatize('fancier', 'a'), lemma.lemmatize('happest', 'a'))"
      ],
      "metadata": {
        "id": "YHHGKTXg9HVb",
        "colab": {
          "base_uri": "https://localhost:8080/"
        },
        "outputId": "6199b54e-7786-4634-9b71-3bf089a4bbd2"
      },
      "execution_count": 8,
      "outputs": [
        {
          "output_type": "stream",
          "name": "stderr",
          "text": [
            "[nltk_data] Downloading package wordnet to /root/nltk_data...\n"
          ]
        },
        {
          "output_type": "stream",
          "name": "stdout",
          "text": [
            "amuse amuse amuse\n",
            "happy happy\n",
            "fancy happest\n"
          ]
        }
      ]
    },
    {
      "cell_type": "markdown",
      "source": [
        "- stemmer 보다 정확하게 원형 단어 추출 가능"
      ],
      "metadata": {
        "id": "HSXvmAsUZljT"
      }
    },
    {
      "cell_type": "markdown",
      "source": [
        "### Bag of Words-BOW\n",
        "\n",
        ": 문서가 가지는 모든 단어를 문맥이나 순서를 무시하고 일괄적으로 단어에 대해 빈도 값을 부여해 피처 값을 추출하는 모델\n",
        "\n",
        "ex)\n",
        "\n",
        "문장1: 'My wife likes to watch baseball games and my daughter likes to watch baseball games too'\n",
        "\n",
        "문장2: 'My wife likes to play baseball'\n",
        "\n",
        "1. 문장1과 2에 있는 모든 단어에서 중복을 제거하고 각 단어를 칼럼 형태로 나열. 그리고 각 단어에 고유의 인덱스 부여\n",
        "\n",
        "and :0, baseball :1, ......wife:10\n",
        "\n",
        "2. 개별 문장에서 해당 단어가 나타나는 횟수를 각 단어에 기재\n",
        "\n",
        "<장점>\n",
        "- 쉽고 빠른 구축\n",
        "\n",
        "<단점>\n",
        "\n",
        "- 문맥 의미 반영 부족 : BOW는 단어의 순서를 고려하지 않기 때문에 문장 내에서 단어의 문맥적인 의미가 무시\n",
        "\n",
        "- 희소 행렬 문제 : Bow로 피처 벡터화를 수행하면 희소 행렬 형태의 데이터 셑트가 만들어지기 쉬움. 많은 문서에서 단어의 개수는 수만개가 될텐데 하나의 문서에 있는 단어는 극히 일부분이므로 대부분 데이터가 0으로 채워짐 -> 희소 행렬 . 이는 알고리즘의 수행시간과 예측 성능을 떨어트림\n",
        "\n",
        "**Bow 피처 벡터화**\n",
        "\n",
        "- 텍스트는 특정의미를 가지는 숫자형 값인 벡터 값으로 변환해야 하는데, 이런 변환을 피처 벡터화라고 한다\n",
        "- 각 문서의 텍스트를 단어로 추출해 피처로 할당하고, 각 단어의 발생 빈도와 같은 값을 이 피처에 값으로 부여해 각 문서를 이 단어 피처의 발생 빈도 값으로 구성된 벡터로 만드는 기법\n",
        "- 모든 문서에서 모든 단어를 칼럼 형태로 나열하고 각 문서에서 해당 단어의 횟수나 정규화된 빈도를 값으로 부여하는 데이터 세트 모델로 변경\n",
        "\n",
        "<방법>\n",
        "1. 카운트 기반의 벡터화 \n",
        "- 카운트 값이 높을수록 중요한 단어\n",
        "- 카운트만하면 그 문서의 특징을 나타내기보단 언어의 특성상 문장에서 자주 사용될 수 밖에 없는 단어까지 높은값 부여. \n",
        "2. TF-IDF \n",
        "- 개별 문서에서 자주 나타나는 단어에 높은 가중치를 주되, 모든 문서에서 전반적으로 자주 나타나는 단어에 대해서는 페널티를 주는 방식 (이게 더 성능 좋음)"
      ],
      "metadata": {
        "id": "kj1cmaaxZian"
      }
    },
    {
      "cell_type": "markdown",
      "source": [
        "**사이킷런의 count 및 tf-idf 벡터화 구현 : countvectorizer, tfidfvectorizer**\n",
        "\n",
        "Countvectorizer\n",
        "\n",
        "- 피처 벡터화 + 소문자 일괄 변환, 토큰화, 스톱 워드 필터링 등의 텍스트 전처리도 함께 수행\n",
        "\n",
        "<파라미터>\n",
        "\n",
        "`max_df` : 전체 문서에 걸쳐서 너무 높은 빈도수를 가지는 단어 피처 제외해줌. max_df=100으로 설정하면 100개 이하로 나타나는 단어만 피처 추출. max_df=0.95면 빈도 상위 5%만 추출 안함\n",
        "\n",
        "`min_df` : 전체 문서에 걸쳐서 너무 낮은 빈도수를 가지는 단어 피처 제외해줌. max_df=2으로 설정하면 2개 이하로 나타나는 단어 제외 추출. max_df=0.02면 빈도 하위 2% 제외 추출\n",
        "\n",
        "`max_features` : 추출하는 피처의 개수 제한. 정수값\n",
        "\n",
        "stop_words : english로 지정하면 영어의 스톱 워드로 지정된 단어는 추출에서 제외\n",
        "\n",
        "`n_gram_range` : BOW 모델의 단어 순서를 어느 정도 보강하기 위한 n_gram 범위 설정\n",
        "\n",
        "`analyzer` : 피처 추출을 수행한 단위 지정. 디폴트는 word. word가 아니라 character의 특정 범위를 피처로 만드는 특정한 경우 등을 적용할 때 사용\n",
        "\n",
        "`token_pattern` : 토큰화를 수행하는 정규 표현식 패턴 지정\n",
        "\n",
        "`tokenizer` : 토큰화를 별도의 커스텀 함수로 이용시 적용"
      ],
      "metadata": {
        "id": "a97WELMMfSxB"
      }
    },
    {
      "cell_type": "markdown",
      "source": [
        "**BOW 벡터화를 위한 희소 행렬**\n",
        "\n",
        "- 사이킷런의 CountVectorizer/TfidfVectorizer를 이용해 텍스트를 피처 단위로 벡터화해 변환하고 CSR 형태의 희소 행렬을 반환\n",
        "- 희소 행렬은 불필요한 0 값이 메모리 공간에 할당되어 메모리 공간이 많이 필요함 -> 적은 메모리를 차지할 수 있도록 변환\n",
        "- COO, CSR 형식"
      ],
      "metadata": {
        "id": "XJ5-q6IkW_Hy"
      }
    },
    {
      "cell_type": "markdown",
      "source": [
        "**희소 행렬 - COO 형식**\n",
        "\n",
        "COO(Coordinate : 좌표)형식 : 0이 아닌 데이터만 별도의 데이터 배열에 저장하고, 그 데이터가 가리키는 행과 열의 위치를 별도의 배열로 저장하는 방식"
      ],
      "metadata": {
        "id": "y3bvef9pYYLq"
      }
    },
    {
      "cell_type": "code",
      "source": [
        "import numpy as np\n",
        "dense = np.array([[3,0,1],[0,2,0]])"
      ],
      "metadata": {
        "id": "aZHqVCxfYea8"
      },
      "execution_count": 9,
      "outputs": []
    },
    {
      "cell_type": "code",
      "source": [
        "from scipy import sparse\n",
        "\n",
        "#0이 아닌 데이터 추출\n",
        "data = np.array([3,1,2])\n",
        "\n",
        "#행 위치와 열 위치를 각각 배열로 생성\n",
        "row_pos = np.array([0,0,1])\n",
        "col_pos = np.array([0,2,1])\n",
        "\n",
        "#sparse 패키지의 coo_matrix 이용해 COO 형식으로 희소 행렬 생성\n",
        "sparse_coo = sparse.coo_matrix((data, (row_pos, col_pos)))"
      ],
      "metadata": {
        "id": "pS3SxgRoYgsB"
      },
      "execution_count": 10,
      "outputs": []
    },
    {
      "cell_type": "code",
      "source": [
        "sparse_coo.toarray()"
      ],
      "metadata": {
        "colab": {
          "base_uri": "https://localhost:8080/"
        },
        "id": "QVPj95tLYiB4",
        "outputId": "57c12d7b-3de2-4f48-d267-770f85c47b61"
      },
      "execution_count": 11,
      "outputs": [
        {
          "output_type": "execute_result",
          "data": {
            "text/plain": [
              "array([[3, 0, 1],\n",
              "       [0, 2, 0]])"
            ]
          },
          "metadata": {},
          "execution_count": 11
        }
      ]
    },
    {
      "cell_type": "markdown",
      "source": [
        "**희소 행렬 - CSR 형식**\n",
        "\n",
        "CSR(Compressed Sparse Row) : COO 형식이 행과 열의 위치를 나타내기 위해서 반복적인 위치 데이터를 사용해야 하는 문제점을 해결한 방식\n",
        "\n",
        "- 행 위치 배열 내에 있는 고유한 값의 시작 위치만 다시 별도 위치 배열로 가지는 변환 방식"
      ],
      "metadata": {
        "id": "DwwkYM12Yj5e"
      }
    },
    {
      "cell_type": "code",
      "source": [
        "from scipy import sparse\n",
        "\n",
        "dense2 = np.array([[0,0,1,0,0,5],\n",
        "                  [1,4,0,3,2,5],\n",
        "                  [0,6,0,3,0,0],\n",
        "                  [2,0,0,0,0,0],\n",
        "                  [0,0,0,7,0,8],\n",
        "                  [1,0,0,0,0,0]])\n",
        "\n",
        "#0이 아닌 데이터 추출\n",
        "data2=np.array([1,5,1,4,3,2,5,6,3,2,7,8,1])\n",
        "\n",
        "#행 위치와 열 위치를 각각 array로 생성\n",
        "row_pos=np.array([0,0,1,1,1,1,1,2,2,3,4,4,5])\n",
        "col_pos=np.array([2,5,0,1,3,4,5,1,3,0,3,5,0])\n",
        "\n",
        "#COO 형식으로 변환\n",
        "sparse_coo=sparse.coo_matrix((data2, (row_pos, col_pos)))\n",
        "\n",
        "#행 위치 배열의 고유한 값의 시작 위치 인덱스를 배열로 생성 + 맨 끝에는 총 데이터 수\n",
        "row_pos_ind=np.array([0,2,7,9,10,12,13])\n",
        "\n",
        "#CSR 형식으로 변환\n",
        "sparse_csr=sparse.csr_matrix((data2, col_pos, row_pos_ind))\n",
        "\n",
        "print('COO 변환된 데이터가 제대로 되었는지 다시 dense로 출력 확인')\n",
        "print(sparse_coo.toarray())\n",
        "print('CSR 변환된 데이터가 제대로 되었는지 다시 dense로 출력 확인')\n",
        "print(sparse_csr.toarray())"
      ],
      "metadata": {
        "colab": {
          "base_uri": "https://localhost:8080/"
        },
        "id": "dBNunS94YmDx",
        "outputId": "f3998d71-2700-4643-d6f1-8b925455afc3"
      },
      "execution_count": 12,
      "outputs": [
        {
          "output_type": "stream",
          "name": "stdout",
          "text": [
            "COO 변환된 데이터가 제대로 되었는지 다시 dense로 출력 확인\n",
            "[[0 0 1 0 0 5]\n",
            " [1 4 0 3 2 5]\n",
            " [0 6 0 3 0 0]\n",
            " [2 0 0 0 0 0]\n",
            " [0 0 0 7 0 8]\n",
            " [1 0 0 0 0 0]]\n",
            "CSR 변환된 데이터가 제대로 되었는지 다시 dense로 출력 확인\n",
            "[[0 0 1 0 0 5]\n",
            " [1 4 0 3 2 5]\n",
            " [0 6 0 3 0 0]\n",
            " [2 0 0 0 0 0]\n",
            " [0 0 0 7 0 8]\n",
            " [1 0 0 0 0 0]]\n"
          ]
        }
      ]
    },
    {
      "cell_type": "code",
      "source": [
        "#밀집 행렬을 생성 파라미터로 입력하면 COO나 CSR 희소 행렬로 생성\n",
        "dense3=np.array([[0,0,1,0,0,5],\n",
        "                 [1,4,0,3,2,5],\n",
        "                 [0,6,0,3,0,0],\n",
        "                 [2,0,0,0,0,0],\n",
        "                 [0,0,0,7,0,8],\n",
        "                 [1,0,0,0,0,0]])\n",
        "\n",
        "coo=sparse.coo_matrix(dense3)\n",
        "csr=sparse.csr_matrix(dense3)"
      ],
      "metadata": {
        "id": "UCJuc3yqYsFh"
      },
      "execution_count": 13,
      "outputs": []
    }
  ]
}